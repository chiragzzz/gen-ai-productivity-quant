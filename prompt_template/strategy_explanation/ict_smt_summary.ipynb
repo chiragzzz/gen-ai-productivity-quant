{
 "cells": [
  {
   "cell_type": "markdown",
   "id": "18360f2c-b1cd-4fa8-a8fa-0a94546d17cb",
   "metadata": {},
   "source": [
    "Purpose: To generate a detailed explanation of why a Smart Money Technique (SMT) signal occurred between two assets \n",
    " (e.g., EURUSD vs GBPUSD) using a structured prompt.\n",
    "\n"
   ]
  },
  {
   "cell_type": "code",
   "execution_count": 2,
   "id": "7d49757a-b17f-45dd-87b0-7a88f0962767",
   "metadata": {},
   "outputs": [
    {
     "data": {
      "text/markdown": [
       "## ICT SMT Signal Explanation Prompt"
      ],
      "text/plain": [
       "<IPython.core.display.Markdown object>"
      ]
     },
     "metadata": {},
     "output_type": "display_data"
    },
    {
     "data": {
      "text/markdown": [
       "## Prompt to Paste into ChatGPT"
      ],
      "text/plain": [
       "<IPython.core.display.Markdown object>"
      ]
     },
     "metadata": {},
     "output_type": "display_data"
    },
    {
     "data": {
      "text/markdown": [
       "```markdown\n",
       "\n",
       "You are an ICT-based trading assistant. On 2025-08-02, you observed a Bearish SMT SMT divergence between EURUSD and GBPUSD on the 1M timeframe during the London Open session.\n",
       "\n",
       "Key Observations:\n",
       "- EURUSD made a lower high: 1.0962 -> 1.0955\n",
       "- GBPUSD made a higher high: -> 1.2981\n",
       "\n",
       "Now, write a 4–5 line explanation of why this is an SMT signal, what it could imply about liquidity and market maker behavior, and what a smart trader should look for next (e.g., MSS or FVG).\n",
       "\n",
       "```"
      ],
      "text/plain": [
       "<IPython.core.display.Markdown object>"
      ]
     },
     "metadata": {},
     "output_type": "display_data"
    }
   ],
   "source": [
    "from IPython.display import Markdown, display\n",
    "from datetime import datetime\n",
    "\n",
    "def show_title(title):\n",
    "    display(Markdown(f\"## {title}\"))\n",
    "\n",
    "# 1. Title\n",
    "show_title(\"ICT SMT Signal Explanation Prompt\")\n",
    "\n",
    "# 2. Basic metadata (you can edit these fields each time you reuse it)\n",
    "signal_date = \"2025-08-02\"\n",
    "pair_1 = \"EURUSD\"\n",
    "pair_2 = \"GBPUSD\"\n",
    "timeframe = \"1M\"\n",
    "direction = \"Bearish SMT\"\n",
    "session = \"London Open\"\n",
    "\n",
    "# 3. Key price points\n",
    "pair_1_high = 1.0962\n",
    "pair_1_lower_high = 1.0955\n",
    "pair_2_higher_high = 1.2981\n",
    "\n",
    "# 4. Prompt Template\n",
    "prompt = f\"\"\"\n",
    "You are an ICT-based trading assistant. On {signal_date}, you observed a {direction} SMT divergence between {pair_1} and {pair_2} on the {timeframe} timeframe during the {session} session.\n",
    "\n",
    "Key Observations:\n",
    "- {pair_1} made a lower high: {pair_1_high} -> {pair_1_lower_high}\n",
    "- {pair_2} made a higher high: -> {pair_2_higher_high}\n",
    "\n",
    "Now, write a 4–5 line explanation of why this is an SMT signal, what it could imply about liquidity and market maker behavior, and what a smart trader should look for next (e.g., MSS or FVG).\n",
    "\"\"\"\n",
    "\n",
    "# 5. Output prompt block\n",
    "show_title(\"Prompt to Paste into ChatGPT\")\n",
    "display(Markdown(f\"```markdown\\n{prompt}\\n```\"))\n"
   ]
  },
  {
   "cell_type": "code",
   "execution_count": null,
   "id": "e71c8fc9-6e2f-4023-b4e5-00878010faca",
   "metadata": {},
   "outputs": [],
   "source": []
  }
 ],
 "metadata": {
  "kernelspec": {
   "display_name": "Python 3 (ipykernel)",
   "language": "python",
   "name": "python3"
  },
  "language_info": {
   "codemirror_mode": {
    "name": "ipython",
    "version": 3
   },
   "file_extension": ".py",
   "mimetype": "text/x-python",
   "name": "python",
   "nbconvert_exporter": "python",
   "pygments_lexer": "ipython3",
   "version": "3.12.7"
  }
 },
 "nbformat": 4,
 "nbformat_minor": 5
}
